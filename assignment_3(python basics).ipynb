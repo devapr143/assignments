{
 "cells": [
  {
   "cell_type": "markdown",
   "id": "a415e04a",
   "metadata": {},
   "source": [
    "# 1.Why are functions advantageous to have in your programs?\n",
    "Ans: Functions makes programs easier to read, easier to update and shorter. Function removes the need to duplicate code as we can call a function where it is required.\n",
    "\n",
    "# 2.When does the code in a function run: when it’s specified or when it’s called?\n",
    "Ans: The code of a function is executed when we call the function, not when we define the function.\n",
    "\n",
    "# 3.What statement creates a function?\n",
    "Ans: The def statement is used to create a function.\n",
    "\n",
    "# 4.What is the difference between a function and a function call?\n",
    "Ans: A function is a code which we write only once in a program, we don’t need to rewrite it to use it. Every time we need to use a function in specific part of a program we use a function call to access it. Also  a function has a def clause whereas function call does not.\n",
    "\n",
    "# 5.How many global scopes are there in a Python program? How many local scopes?\n",
    "Ans: For every execution of program there is one global scope  and a local scope is created whenever a function is called.\n",
    "\n",
    "# 6.What happens to variables in a local scope when the function call returns?\n",
    "Ans: The local scope is destroyed, and all the variables in it are forgotten when a function a function call returns.\n",
    "\n",
    "# 7.What is the concept of a return value? Is it possible to have a return value in an expression?\n",
    "Ans: The value that a function returns to a caller is called as the return value. Yes, it is possible to return have a return value in an expression.\n",
    "\n",
    "# 8.If a function does not have a return statement, what is the return value of a call to that function?\n",
    "Ans: If a function doesn’t have a return statement, then the return value is None.\n",
    "\n",
    "# 9.How do you make a function variable refer to the global variable?\n",
    "Ans: If we want a function variable to refer to the global variable then we can use the global keyboard to declare which variables are global.\n",
    "\n",
    "# 10.What is the data type of None?\n",
    "Ans: None Type is the data type of None.\n",
    "\n",
    "# 11.What does the sentence import areallyourpetsnamederic do?\n",
    "Ans: This import statement imports a module which is named areallyourpetsnamederic.\n",
    "\n",
    "# 12.If you had a bacon() feature in a spam module, what would you call it after importing spam?\n",
    "Ans: We can call this function using spam.bacon().\n",
    "\n",
    "# 13.What can you do to save a programme from crashing if it encounters an error?\n",
    "Ans: We  can move the code inside a try and except statement, now when we run the program it will show a error message instead of crashing the program.\n",
    "\n",
    "# 14.What is the purpose of the try clause? What is the purpose of the except clause?\n",
    "Ans: A code which can cause an error goes in the try clause. The code will go to the except clause when it gives an error upon execution."
   ]
  }
 ],
 "metadata": {
  "kernelspec": {
   "display_name": "Python 3 (ipykernel)",
   "language": "python",
   "name": "python3"
  },
  "language_info": {
   "codemirror_mode": {
    "name": "ipython",
    "version": 3
   },
   "file_extension": ".py",
   "mimetype": "text/x-python",
   "name": "python",
   "nbconvert_exporter": "python",
   "pygments_lexer": "ipython3",
   "version": "3.9.12"
  }
 },
 "nbformat": 4,
 "nbformat_minor": 5
}
