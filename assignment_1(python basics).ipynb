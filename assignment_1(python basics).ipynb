{
 "cells": [
  {
   "cell_type": "raw",
   "id": "f6257e4a",
   "metadata": {},
   "source": [
    "\n",
    "1.In the below elements which of them are values or an expression? eg:- values can be integer or string and expressions will be mathematical operators.\n",
    "Ans:\n",
    "*     \n",
    "->expression\n",
    "'hello'  \n",
    "->value\n",
    "-87.8   \n",
    "->value\n",
    "- \n",
    "->expression\n",
    "/    \n",
    "->expression \n",
    "+ \n",
    "->expression\n",
    "6  \n",
    "->value\n",
    "2. What is the difference between string and variable?\n",
    "Ans:\n",
    " String: these are alphanumeric characters written inside quotes : \"cat11\", 'dANger'\n",
    "Variable: It acts as a container to contain a value.\n",
    "3. Describe three different data types.\n",
    "Ans:\n",
    "Boolean: these are used to represent logical values. Eg: TRUE, FALSE\n",
    "Integer: these are used to store numerical values eg: 1,20,300 etc…\n",
    "Float: these are used to store float number values or numbers with decimal points eg: 55.45,12.1 etc…\n",
    "4. What is an expression made up of? What do all expressions do? \n",
    "An expression is a combination of operators and operands that is interpreted to produce some other value. example: \n",
    "     X=20+30  ,expressions are used to evaluate the values or show results.\n",
    "5. This assignment statements, like spam = 10. What is the difference between an expression and a statement?\n",
    "Ans: Expression is made up of operands, operators,values, variables etc.. and the statement is like a command that a python interpreter executes like print,return,break etc...\n",
    "6. After running the following code, what does the variable bacon contain?\n",
    "bacon = 22\n",
    "bacon + 1\n",
    "Ans: It contains the value 23\n",
    "7. What should the values of the following two terms be?\n",
    "'spam' + 'spamspam'\n",
    "'spam' * 3\n",
    "Ans: Both will have same answer that is : ‘spamspamspam’\n",
    "\n",
    "8. Why is eggs a valid variable name while 100 is invalid?\n",
    "Ans:Because 100 is an integer and variables can’t start with integer it should start with a alphabet like string, therefore eggs is a valid variable.\n",
    "9. What three functions can be used to get the integer, floating-point number, or string version of a value?\n",
    "ans: we can use str() for string, int() for integer,float() for floating point number\n",
    "10. Why does this expression cause an error? How can you fix it?\n",
    "'I have eaten' + 99 + 'burritos' \n",
    "Ans:  It show error because 99 is an integer and we cannot concatenate integers and string. To fix this we can put 99 inside quotes and make it a string ,i.e ‘99’ \n",
    "So, it will be ‘I have eaten’+’99’+’burritos’\n"
   ]
  }
 ],
 "metadata": {
  "kernelspec": {
   "display_name": "Python 3 (ipykernel)",
   "language": "python",
   "name": "python3"
  },
  "language_info": {
   "codemirror_mode": {
    "name": "ipython",
    "version": 3
   },
   "file_extension": ".py",
   "mimetype": "text/x-python",
   "name": "python",
   "nbconvert_exporter": "python",
   "pygments_lexer": "ipython3",
   "version": "3.9.12"
  }
 },
 "nbformat": 4,
 "nbformat_minor": 5
}
