{
 "cells": [
  {
   "cell_type": "markdown",
   "id": "61f5366f",
   "metadata": {},
   "source": [
    " **1. What does an empty dictionary's code look like?\n",
    " \n",
    "Ans:An empty dictionary is represented by d = {} or d = dict()"
   ]
  },
  {
   "cell_type": "markdown",
   "id": "bad1b3d9",
   "metadata": {},
   "source": [
    " **1. What does an empty dictionary's code look like?\n",
    " \n",
    "Ans: An empty dictionary is represented by d = {} or d = dict()\n",
    "\n",
    "**2. What is the value of a dictionary value with the key 'foo' and the value 42?\n",
    "\n",
    "Ans: {'foo':42}"
   ]
  },
  {
   "cell_type": "markdown",
   "id": "bc764060",
   "metadata": {},
   "source": [
    "**3.What is the most significant distinction between a dictionary and a list?\n",
    "\n",
    "Ans: Dictionaries are represented by {} whereas listed are represented by [],also dictionaries has keys assigned along with values, but list only has values. "
   ]
  },
  {
   "cell_type": "markdown",
   "id": "6355ebaa",
   "metadata": {},
   "source": [
    "**4.What happens if you try to access spam ['foo'] if spam is {'bar':100} ?\n",
    "\n",
    "Ans: It will display a keyError, KeyError: 'foo'.\n",
    "\n",
    "**5.if a dictionary is stored in spam,what is the difference between the expressions 'cat' in spam and 'cat' in spam.keys() ?\n",
    "\n",
    "Ans: There is no difference between them.The operator checks whether the key exists in dictionary or not. \n",
    "\n",
    "**6. If a dictionary is stored in spam, what is the difference between the expressions 'cat' in spam and\n",
    "'cat' in spam.values()?\n",
    "\n",
    "Ans:'cat' in spam checks whether a key named 'cat' is available in dictionary or not, whereas 'cat' in spam.keys() checks whether a value named 'cat' exists in any of the keys.\n",
    "\n",
    "**7. What is a shortcut for the following code?\n",
    "if 'color' not in spam:\n",
    "    spam['color'] = 'black'\n",
    "\n",
    "Ans: The shortcut is:spam.setdefault('color','black').\n",
    "\n",
    "**8. How do you 'pretty print' dictionary values using which module and function?\n",
    "\n",
    "Ans:We can use pprint() to Pretty Print a Dictionary in Python.\n"
   ]
  }
 ],
 "metadata": {
  "kernelspec": {
   "display_name": "Python 3 (ipykernel)",
   "language": "python",
   "name": "python3"
  },
  "language_info": {
   "codemirror_mode": {
    "name": "ipython",
    "version": 3
   },
   "file_extension": ".py",
   "mimetype": "text/x-python",
   "name": "python",
   "nbconvert_exporter": "python",
   "pygments_lexer": "ipython3",
   "version": "3.9.12"
  }
 },
 "nbformat": 4,
 "nbformat_minor": 5
}
