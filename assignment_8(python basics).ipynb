{
 "cells": [
  {
   "cell_type": "markdown",
   "id": "20e3cf84",
   "metadata": {},
   "source": [
    "# 1.Is the Python Standard Library included with PyInputPlus?\n",
    "Ans: No, PyInputPlus is not a part of python standard library, this is installed by using the command !pip install PyInputPlus\n",
    "\n",
    "# 2.Why is PyInputPlus commonly imported with import pyinputplus as pypi?\n",
    "Ans:It is imported as pyip for ease of use, with a shorter name calling the module’s functions is easier. \n",
    "\n",
    "# 3.How do you distinguish between inputInt() and inputFloat()?\n",
    "Ans:inputInt() function accepts an integer value, whereas inputFloat() accepts a floating point numeric value.\n",
    "\n",
    "# 4.Using PyInputPlus, how do you ensure that the user enters a whole number between 0 and 99?\n",
    "Ans: we can set the min = 0 and max=99 in the inputInt() function,i.e :\n",
    "pyip.inputInt(min=0,max=99)\n",
    "\n",
    "# 5.What is transferred to the keyword arguments allowRegexes and blockRegexes?\n",
    "Ans:The allowRegexs and blockRegexes keyword arguments take a list of regular expression strings to determine what the PyInputPlus function will accept or reject as valid input.\n",
    "\n",
    "# 6.If a blank input is entered three times, what does inputStr(limit=3) do?\n",
    "Ans: It will show a RetryLimitException exception.\n",
    "\n",
    "# 7.If blank input is entered three times, what does inputStr(limit=3, default='hello') do?\n",
    "Ans:The function will return the default value instead of raising a exception when we use limit keyword arguments and also pass a default keyword argument."
   ]
  }
 ],
 "metadata": {
  "kernelspec": {
   "display_name": "Python 3 (ipykernel)",
   "language": "python",
   "name": "python3"
  },
  "language_info": {
   "codemirror_mode": {
    "name": "ipython",
    "version": 3
   },
   "file_extension": ".py",
   "mimetype": "text/x-python",
   "name": "python",
   "nbconvert_exporter": "python",
   "pygments_lexer": "ipython3",
   "version": "3.9.12"
  }
 },
 "nbformat": 4,
 "nbformat_minor": 5
}
