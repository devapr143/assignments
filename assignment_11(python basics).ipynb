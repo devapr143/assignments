{
 "cells": [
  {
   "cell_type": "markdown",
   "id": "ab766271",
   "metadata": {},
   "source": [
    "## 1. Create an assert statement that throws an AssertionError if the variable spam is a negative integer."
   ]
  },
  {
   "cell_type": "code",
   "execution_count": 14,
   "id": "127d494f",
   "metadata": {},
   "outputs": [
    {
     "ename": "AssertionError",
     "evalue": "Variable Spam should not be a -ve number",
     "output_type": "error",
     "traceback": [
      "\u001b[1;31m---------------------------------------------------------------------------\u001b[0m",
      "\u001b[1;31mAssertionError\u001b[0m                            Traceback (most recent call last)",
      "Input \u001b[1;32mIn [14]\u001b[0m, in \u001b[0;36m<cell line: 2>\u001b[1;34m()\u001b[0m\n\u001b[0;32m      1\u001b[0m spam\u001b[38;5;241m=\u001b[39m\u001b[38;5;241m-\u001b[39m\u001b[38;5;241m100\u001b[39m\n\u001b[1;32m----> 2\u001b[0m \u001b[38;5;28;01massert\u001b[39;00m spam \u001b[38;5;241m>\u001b[39m\u001b[38;5;241m=\u001b[39m\u001b[38;5;241m0\u001b[39m,\u001b[38;5;124m'\u001b[39m\u001b[38;5;124mVariable Spam should not be a -ve number\u001b[39m\u001b[38;5;124m'\u001b[39m\n",
      "\u001b[1;31mAssertionError\u001b[0m: Variable Spam should not be a -ve number"
     ]
    }
   ],
   "source": [
    "spam=-100\n",
    "assert spam >=0,'Variable Spam should not be a -ve number'"
   ]
  },
  {
   "cell_type": "markdown",
   "id": "e5108cbb",
   "metadata": {},
   "source": [
    "## 2. Write an assert statement that triggers an AssertionError if the variables eggs and bacon contain strings that are the same as each other, even if their cases are different (that is, 'hello' and 'hello' are considered the same, and 'goodbye' and 'GOODbye' are also considered the same)."
   ]
  },
  {
   "cell_type": "code",
   "execution_count": 12,
   "id": "b493bcd2",
   "metadata": {},
   "outputs": [],
   "source": [
    "def show_assert(first,second):\n",
    "    first = first.upper()\n",
    "    second = second.upper()\n",
    "    assert not(first == second),'first/second should not be same, which are same now'"
   ]
  },
  {
   "cell_type": "code",
   "execution_count": 13,
   "id": "c1bb0b70",
   "metadata": {},
   "outputs": [
    {
     "ename": "AssertionError",
     "evalue": "first/second should not be same, which are same now",
     "output_type": "error",
     "traceback": [
      "\u001b[1;31m---------------------------------------------------------------------------\u001b[0m",
      "\u001b[1;31mAssertionError\u001b[0m                            Traceback (most recent call last)",
      "Input \u001b[1;32mIn [13]\u001b[0m, in \u001b[0;36m<cell line: 1>\u001b[1;34m()\u001b[0m\n\u001b[1;32m----> 1\u001b[0m \u001b[43mshow_assert\u001b[49m\u001b[43m(\u001b[49m\u001b[38;5;124;43m'\u001b[39;49m\u001b[38;5;124;43mhello\u001b[39;49m\u001b[38;5;124;43m'\u001b[39;49m\u001b[43m,\u001b[49m\u001b[38;5;124;43m'\u001b[39;49m\u001b[38;5;124;43mHELLO\u001b[39;49m\u001b[38;5;124;43m'\u001b[39;49m\u001b[43m)\u001b[49m\n",
      "Input \u001b[1;32mIn [12]\u001b[0m, in \u001b[0;36mshow_assert\u001b[1;34m(first, second)\u001b[0m\n\u001b[0;32m      2\u001b[0m first \u001b[38;5;241m=\u001b[39m first\u001b[38;5;241m.\u001b[39mupper()\n\u001b[0;32m      3\u001b[0m second \u001b[38;5;241m=\u001b[39m second\u001b[38;5;241m.\u001b[39mupper()\n\u001b[1;32m----> 4\u001b[0m \u001b[38;5;28;01massert\u001b[39;00m \u001b[38;5;129;01mnot\u001b[39;00m(first \u001b[38;5;241m==\u001b[39m second),\u001b[38;5;124m'\u001b[39m\u001b[38;5;124mfirst/second should not be same, which are same now\u001b[39m\u001b[38;5;124m'\u001b[39m\n",
      "\u001b[1;31mAssertionError\u001b[0m: first/second should not be same, which are same now"
     ]
    }
   ],
   "source": [
    "show_assert('hello','HELLO')"
   ]
  },
  {
   "cell_type": "code",
   "execution_count": 15,
   "id": "cb2af839",
   "metadata": {},
   "outputs": [
    {
     "ename": "AssertionError",
     "evalue": "first/second should not be same, which are same now",
     "output_type": "error",
     "traceback": [
      "\u001b[1;31m---------------------------------------------------------------------------\u001b[0m",
      "\u001b[1;31mAssertionError\u001b[0m                            Traceback (most recent call last)",
      "Input \u001b[1;32mIn [15]\u001b[0m, in \u001b[0;36m<cell line: 1>\u001b[1;34m()\u001b[0m\n\u001b[1;32m----> 1\u001b[0m \u001b[43mshow_assert\u001b[49m\u001b[43m(\u001b[49m\u001b[38;5;124;43m'\u001b[39;49m\u001b[38;5;124;43mgoodbye\u001b[39;49m\u001b[38;5;124;43m'\u001b[39;49m\u001b[43m,\u001b[49m\u001b[38;5;124;43m'\u001b[39;49m\u001b[38;5;124;43mGOODBYE\u001b[39;49m\u001b[38;5;124;43m'\u001b[39;49m\u001b[43m)\u001b[49m\n",
      "Input \u001b[1;32mIn [12]\u001b[0m, in \u001b[0;36mshow_assert\u001b[1;34m(first, second)\u001b[0m\n\u001b[0;32m      2\u001b[0m first \u001b[38;5;241m=\u001b[39m first\u001b[38;5;241m.\u001b[39mupper()\n\u001b[0;32m      3\u001b[0m second \u001b[38;5;241m=\u001b[39m second\u001b[38;5;241m.\u001b[39mupper()\n\u001b[1;32m----> 4\u001b[0m \u001b[38;5;28;01massert\u001b[39;00m \u001b[38;5;129;01mnot\u001b[39;00m(first \u001b[38;5;241m==\u001b[39m second),\u001b[38;5;124m'\u001b[39m\u001b[38;5;124mfirst/second should not be same, which are same now\u001b[39m\u001b[38;5;124m'\u001b[39m\n",
      "\u001b[1;31mAssertionError\u001b[0m: first/second should not be same, which are same now"
     ]
    }
   ],
   "source": [
    "show_assert('goodbye','GOODBYE')"
   ]
  },
  {
   "cell_type": "markdown",
   "id": "24e5cadb",
   "metadata": {},
   "source": [
    "## 3. Create an assert statement that throws an AssertionError every time."
   ]
  },
  {
   "cell_type": "code",
   "execution_count": 11,
   "id": "92158a46",
   "metadata": {},
   "outputs": [
    {
     "ename": "AssertionError",
     "evalue": "always show assertion error",
     "output_type": "error",
     "traceback": [
      "\u001b[1;31m---------------------------------------------------------------------------\u001b[0m",
      "\u001b[1;31mAssertionError\u001b[0m                            Traceback (most recent call last)",
      "Input \u001b[1;32mIn [11]\u001b[0m, in \u001b[0;36m<cell line: 3>\u001b[1;34m()\u001b[0m\n\u001b[0;32m      1\u001b[0m \u001b[38;5;28;01mdef\u001b[39;00m \u001b[38;5;21meverytime\u001b[39m():\n\u001b[0;32m      2\u001b[0m     \u001b[38;5;28;01massert\u001b[39;00m \u001b[38;5;28;01mFalse\u001b[39;00m,\u001b[38;5;124m'\u001b[39m\u001b[38;5;124malways show assertion error\u001b[39m\u001b[38;5;124m'\u001b[39m\n\u001b[1;32m----> 3\u001b[0m \u001b[43meverytime\u001b[49m\u001b[43m(\u001b[49m\u001b[43m)\u001b[49m\n",
      "Input \u001b[1;32mIn [11]\u001b[0m, in \u001b[0;36meverytime\u001b[1;34m()\u001b[0m\n\u001b[0;32m      1\u001b[0m \u001b[38;5;28;01mdef\u001b[39;00m \u001b[38;5;21meverytime\u001b[39m():\n\u001b[1;32m----> 2\u001b[0m     \u001b[38;5;28;01massert\u001b[39;00m \u001b[38;5;28;01mFalse\u001b[39;00m,\u001b[38;5;124m'\u001b[39m\u001b[38;5;124malways show assertion error\u001b[39m\u001b[38;5;124m'\u001b[39m\n",
      "\u001b[1;31mAssertionError\u001b[0m: always show assertion error"
     ]
    }
   ],
   "source": [
    "def everytime():\n",
    "    assert False,'always show assertion error'\n",
    "everytime()"
   ]
  },
  {
   "cell_type": "markdown",
   "id": "ce9dced5",
   "metadata": {},
   "source": [
    "## 4. What are the two lines that must be present in your software in order to call logging.debug()?"
   ]
  },
  {
   "cell_type": "code",
   "execution_count": 17,
   "id": "edebf1bf",
   "metadata": {},
   "outputs": [],
   "source": [
    "import logging\n",
    "logging.basicConfig(filename = 'example_log.txt',level=logging.DEBUG, format=' %(asctime)s - %(levelname)s - %(message)s')"
   ]
  },
  {
   "cell_type": "markdown",
   "id": "0614ef32",
   "metadata": {},
   "source": [
    "## 5. What are the two lines that your program must have in order to have logging.debug() send a logging message to a file named programLog.txt?"
   ]
  },
  {
   "cell_type": "code",
   "execution_count": 18,
   "id": "582d1ba8",
   "metadata": {},
   "outputs": [],
   "source": [
    "import logging\n",
    "logging.basicConfig(filename = 'example_log.txt',level=logging.DEBUG, format=' %(asctime)s - %(levelname)s - %(message)s')\n",
    "logging.debug(\"Data Inserted Successfully\")\n",
    "logging.debug('Connection terminated Successfully')"
   ]
  },
  {
   "cell_type": "code",
   "execution_count": 19,
   "id": "d0958e2d",
   "metadata": {},
   "outputs": [
    {
     "name": "stdout",
     "output_type": "stream",
     "text": [
      " 2022-06-30 20:12:30,689 - DEBUG - Data Inserted Successfully\n",
      "\n",
      " 2022-06-30 20:12:30,694 - DEBUG - Connection terminated Successfully\n",
      "\n"
     ]
    }
   ],
   "source": [
    "a = open(\"./example_log.txt\",\"r\")\n",
    "for i in a.readlines():\n",
    "    print(i)"
   ]
  },
  {
   "cell_type": "markdown",
   "id": "9c3eeac0",
   "metadata": {},
   "source": [
    "## 6.What are the five levels of logging?"
   ]
  },
  {
   "cell_type": "markdown",
   "id": "c0f39136",
   "metadata": {},
   "source": [
    "ANS: the five levels of logging are DEBUG, INGO, WARNING, ERROR and CRITICAL."
   ]
  },
  {
   "cell_type": "markdown",
   "id": "83ff9f27",
   "metadata": {},
   "source": [
    "## 7. What line of code would you add to your software to disable all logging messages?"
   ]
  },
  {
   "cell_type": "code",
   "execution_count": 20,
   "id": "d22791c1",
   "metadata": {},
   "outputs": [],
   "source": [
    "logging.disable = True"
   ]
  },
  {
   "cell_type": "markdown",
   "id": "0e68f230",
   "metadata": {},
   "source": [
    "## 8.Why is using logging messages better than using print() to display the same message?"
   ]
  },
  {
   "cell_type": "markdown",
   "id": "18f95ced",
   "metadata": {},
   "source": [
    "ANS: After developing your code, you can turn off logging messages without removing the logging feature, but you must manually remove the print () statement. This is a tedious task. Also, print is used  to display specific messages and help, and logging is used to log all events such as errors, information, debug messages, timestamps, etc."
   ]
  },
  {
   "cell_type": "markdown",
   "id": "3071ab1d",
   "metadata": {},
   "source": [
    "## 9.What are the differences between the Step Over, Step In, and Step Out buttons in the debugger?"
   ]
  },
  {
   "cell_type": "markdown",
   "id": "4a540179",
   "metadata": {},
   "source": [
    "ANS: The differences between the Debugger's Step Over, Step In, and Step Out buttons are as follows: \n",
    " Step In-When you use the Step In button, the debugger executes the next line of code and then pauses again. \n",
    " \n",
    " Step Over-The Step Over button executes the next line of code, similar to the Step In button. However, if the next line of code is a function call, the Step Over button will \"jump\" to the code in the function. The function code runs at full speed and the debugger stops when the function call returns. \n",
    " \n",
    " Step Out-When you use the Step Out button, the debugger runs the line of code at full speed until you finish the current function."
   ]
  },
  {
   "cell_type": "markdown",
   "id": "a0c3c01f",
   "metadata": {},
   "source": [
    "## 10.After you click Continue, when will the debugger stop ?"
   ]
  },
  {
   "cell_type": "markdown",
   "id": "cbe577ac",
   "metadata": {},
   "source": [
    "ANS: It causes the program to continue running normally, without pausing for debugging untill it terminates or reaches a breakpoint."
   ]
  },
  {
   "cell_type": "markdown",
   "id": "2568788a",
   "metadata": {},
   "source": [
    "## 11. What is the concept of a breakpoint?"
   ]
  },
  {
   "cell_type": "markdown",
   "id": "bfa3c73d",
   "metadata": {},
   "source": [
    "ANS:A breakpoint is the setting of a line of code that causes the debugger to stop when the execution of the program  reaches that line."
   ]
  },
  {
   "cell_type": "code",
   "execution_count": null,
   "id": "f53a023a",
   "metadata": {},
   "outputs": [],
   "source": []
  }
 ],
 "metadata": {
  "kernelspec": {
   "display_name": "Python 3 (ipykernel)",
   "language": "python",
   "name": "python3"
  },
  "language_info": {
   "codemirror_mode": {
    "name": "ipython",
    "version": 3
   },
   "file_extension": ".py",
   "mimetype": "text/x-python",
   "name": "python",
   "nbconvert_exporter": "python",
   "pygments_lexer": "ipython3",
   "version": "3.9.12"
  }
 },
 "nbformat": 4,
 "nbformat_minor": 5
}
