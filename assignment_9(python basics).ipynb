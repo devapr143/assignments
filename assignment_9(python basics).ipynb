{
 "cells": [
  {
   "cell_type": "markdown",
   "id": "09a15f4c",
   "metadata": {},
   "source": [
    "# 1.To what does a relative path refer?\n",
    "Ans: The relative path refers to a location of a current directory.\n",
    "Eg: assignments\\assignment_9.docx\n",
    "\n",
    "# 2.What does an absolute path start with your operating system?\n",
    "Ans:The absolute path will start at the directory of our computer and will end with the file or folder that we want to access.\n",
    "\n",
    "# 3.What do the functions os.getcwd() and os.chdir() do?\n",
    "Ans: The os.getcwd() method is used to return the path of the current directory.The os.chdir() method is  used to change the current directory to a specified path.\n",
    "\n",
    "# 4.What are the . and .. folders?\n",
    "Ans: (.)represents this directory and (..) represents parent directory.It makes things quicker at command line so that we don’t need to type out full paths.\n",
    "\n",
    "# 5.In C:\\bacon\\eggs\\spam.txt, which part is the dir name, and which part is the base name?\n",
    "Ans: base name-> spam.txt \n",
    "\tDir name-> c:\\bacon\\eggs\n",
    "\n",
    "# 6.What are the three “mode” arguments that can be passed to the open() function?\n",
    "Ans: The three mode arguments are:\n",
    "‘w’-> open for writing.\n",
    "‘a’-> open for appending.\n",
    "‘r’-> open for reading in text mode.\n",
    "\n",
    "# 7.What happens if an existing file is opened in write mode?\n",
    "Ans: If an existing file is opened in write mode then  the previous content is erased and file is treated as a new empty file.\n",
    "\n",
    "# 8.How do you tell the difference between read() and readlines()?\n",
    "Ans: The read() method iterates over each character whereas, readlines() method reads only single line of the file.\n",
    "\n",
    "# 9.What data structure does a shelf value resemble?\n",
    "Ans: A shelf value resembles a dictionary value. It has keys() and values() method similar to a dictionary. "
   ]
  }
 ],
 "metadata": {
  "kernelspec": {
   "display_name": "Python 3 (ipykernel)",
   "language": "python",
   "name": "python3"
  },
  "language_info": {
   "codemirror_mode": {
    "name": "ipython",
    "version": 3
   },
   "file_extension": ".py",
   "mimetype": "text/x-python",
   "name": "python",
   "nbconvert_exporter": "python",
   "pygments_lexer": "ipython3",
   "version": "3.9.12"
  }
 },
 "nbformat": 4,
 "nbformat_minor": 5
}
