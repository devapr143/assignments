{
 "cells": [
  {
   "cell_type": "markdown",
   "id": "566b24fb",
   "metadata": {},
   "source": [
    "## 1.Write a Python program to print ''Hello Python''?"
   ]
  },
  {
   "cell_type": "code",
   "execution_count": 1,
   "id": "164dc919",
   "metadata": {},
   "outputs": [
    {
     "name": "stdout",
     "output_type": "stream",
     "text": [
      "Hello Python\n"
     ]
    }
   ],
   "source": [
    "print(\"Hello Python\")"
   ]
  },
  {
   "cell_type": "markdown",
   "id": "ef96dcb5",
   "metadata": {},
   "source": [
    "## 2.Write a Python program to do arithmetic operations addition and division ?"
   ]
  },
  {
   "cell_type": "code",
   "execution_count": 7,
   "id": "4da7a616",
   "metadata": {},
   "outputs": [
    {
     "name": "stdout",
     "output_type": "stream",
     "text": [
      "enter a number:10\n",
      "enter another number:20\n",
      "30.0\n",
      "0.5\n"
     ]
    }
   ],
   "source": [
    "a=float(input('enter a number:'))\n",
    "b=float(input('enter another number:'))\n",
    "print(a+b)\n",
    "print(a/b)"
   ]
  },
  {
   "cell_type": "markdown",
   "id": "8962bca5",
   "metadata": {},
   "source": [
    "## 3. Write a Python program to find the area of a triangle?"
   ]
  },
  {
   "cell_type": "code",
   "execution_count": 8,
   "id": "6e300c2c",
   "metadata": {},
   "outputs": [
    {
     "name": "stdout",
     "output_type": "stream",
     "text": [
      "enter base:10\n",
      "enter hieght:20\n",
      "100.0\n"
     ]
    }
   ],
   "source": [
    "b=float(input('enter base:'))\n",
    "h=float(input ('enter hieght:'))\n",
    "print((b*h)/2)"
   ]
  },
  {
   "cell_type": "markdown",
   "id": "0c32f99a",
   "metadata": {},
   "source": [
    "## 4.Write a Python program to swap two variables?"
   ]
  },
  {
   "cell_type": "code",
   "execution_count": 13,
   "id": "10873fa9",
   "metadata": {},
   "outputs": [
    {
     "name": "stdout",
     "output_type": "stream",
     "text": [
      "a:5\n",
      "b:20\n",
      "a: 20\n",
      "b: 5\n"
     ]
    }
   ],
   "source": [
    "a=input('a:')\n",
    "b=input('b:')\n",
    "temp=a\n",
    "a=b\n",
    "b=temp\n",
    "print('a:',a)\n",
    "print('b:',b)"
   ]
  },
  {
   "cell_type": "markdown",
   "id": "a4532790",
   "metadata": {},
   "source": [
    "## 5. Write a Python program to generate a random number?"
   ]
  },
  {
   "cell_type": "code",
   "execution_count": 18,
   "id": "5931a600",
   "metadata": {},
   "outputs": [
    {
     "name": "stdout",
     "output_type": "stream",
     "text": [
      "104\n"
     ]
    }
   ],
   "source": [
    "import random\n",
    "print(random.randint(0,1000))"
   ]
  },
  {
   "cell_type": "code",
   "execution_count": null,
   "id": "8f509c5b",
   "metadata": {},
   "outputs": [],
   "source": []
  }
 ],
 "metadata": {
  "kernelspec": {
   "display_name": "Python 3 (ipykernel)",
   "language": "python",
   "name": "python3"
  },
  "language_info": {
   "codemirror_mode": {
    "name": "ipython",
    "version": 3
   },
   "file_extension": ".py",
   "mimetype": "text/x-python",
   "name": "python",
   "nbconvert_exporter": "python",
   "pygments_lexer": "ipython3",
   "version": "3.9.12"
  }
 },
 "nbformat": 4,
 "nbformat_minor": 5
}
